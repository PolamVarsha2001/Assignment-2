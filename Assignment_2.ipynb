{
  "nbformat": 4,
  "nbformat_minor": 0,
  "metadata": {
    "colab": {
      "name": "Assignment-2.ipynb",
      "provenance": [],
      "authorship_tag": "ABX9TyOrLs51Eo9XFxawdjh907Rq",
      "include_colab_link": true
    },
    "kernelspec": {
      "name": "python3",
      "display_name": "Python 3"
    }
  },
  "cells": [
    {
      "cell_type": "markdown",
      "metadata": {
        "id": "view-in-github",
        "colab_type": "text"
      },
      "source": [
        "<a href=\"https://colab.research.google.com/github/PolamVarsha2001/Assignment-2/blob/master/Assignment_2.ipynb\" target=\"_parent\"><img src=\"https://colab.research.google.com/assets/colab-badge.svg\" alt=\"Open In Colab\"/></a>"
      ]
    },
    {
      "cell_type": "code",
      "metadata": {
        "id": "o51vugmkWt1w",
        "colab_type": "code",
        "colab": {
          "base_uri": "https://localhost:8080/",
          "height": 84
        },
        "outputId": "a1d353e4-0e67-476a-f0eb-2f83d930dbfb"
      },
      "source": [
        "a=int(input('Enter 1st side of triangle : '))\n",
        "b=int(input('Enter 2nd side of triangle : '))\n",
        "c=int(input('Enter 3rd side of triangle : '))\n",
        "s=(a+b+c)/2\n",
        "a=(s*(s-a)*(s-b)*(s-c))**(1/2)\n",
        "print(\"Area of Triangle : \",a)"
      ],
      "execution_count": null,
      "outputs": [
        {
          "output_type": "stream",
          "text": [
            "Enter 1st side of triangle : 5\n",
            "Enter 2nd side of triangle : 7\n",
            "Enter 3rd side of triangle : 9\n",
            "Area of Triangle :  17.41228014936585\n"
          ],
          "name": "stdout"
        }
      ]
    },
    {
      "cell_type": "code",
      "metadata": {
        "id": "nYazOdPpZnZ5",
        "colab_type": "code",
        "colab": {
          "base_uri": "https://localhost:8080/",
          "height": 50
        },
        "outputId": "1b396000-54c9-4468-8824-4a821816f6a3"
      },
      "source": [
        "a=input('Enter any String : ')\n",
        "b=\"\"\n",
        "for i in a:\n",
        "  b=i+b\n",
        "if a==b:\n",
        "  print(\"Given String is Palindrome\")\n",
        "else: \n",
        "  print(\"Given String is not a Palindrome\")"
      ],
      "execution_count": null,
      "outputs": [
        {
          "output_type": "stream",
          "text": [
            "Enter any String : nani\n",
            "Given String is not a Palindrome\n"
          ],
          "name": "stdout"
        }
      ]
    },
    {
      "cell_type": "code",
      "metadata": {
        "id": "5f4vxOsxbUMD",
        "colab_type": "code",
        "colab": {
          "base_uri": "https://localhost:8080/",
          "height": 50
        },
        "outputId": "47dc85ad-5e87-4fb5-80c3-e5205aefef1c"
      },
      "source": [
        "a=int(input('Enter any year : '))\n",
        "if a%4==0:\n",
        "  print(\"Leap Year\")\n",
        "else:\n",
        "  print(\"Not a Leap Year\")"
      ],
      "execution_count": null,
      "outputs": [
        {
          "output_type": "stream",
          "text": [
            "Enter any year : 2020\n",
            "Leap Year\n"
          ],
          "name": "stdout"
        }
      ]
    },
    {
      "cell_type": "code",
      "metadata": {
        "id": "xIM4kybEb2MA",
        "colab_type": "code",
        "colab": {
          "base_uri": "https://localhost:8080/",
          "height": 50
        },
        "outputId": "68bc2bdc-3eaa-4fcb-f61f-35d4fbdb2eae"
      },
      "source": [
        "a=input('Enter any String : ')\n",
        "b=\"\"\n",
        "for i in a:\n",
        "  if i==\" \":\n",
        "    i=\"-\"\n",
        "    b=b+i\n",
        "  else:\n",
        "    b=b+i\n",
        "print(b)"
      ],
      "execution_count": null,
      "outputs": [
        {
          "output_type": "stream",
          "text": [
            "Enter any String : This program converts spaces to hyphen\n",
            "This-program-converts-spaces-to-hyphen\n"
          ],
          "name": "stdout"
        }
      ]
    },
    {
      "cell_type": "code",
      "metadata": {
        "id": "AHoVttKbeLKl",
        "colab_type": "code",
        "colab": {
          "base_uri": "https://localhost:8080/",
          "height": 50
        },
        "outputId": "f0ef63d9-3038-435a-ae4c-eb112d11cebc"
      },
      "source": [
        "items = input(\"Input comma separated sequence of words : \")\n",
        "words = [word for word in items.split(\",\")]\n",
        "print(\",\".join(sorted(list(set(words)))))"
      ],
      "execution_count": null,
      "outputs": [
        {
          "output_type": "stream",
          "text": [
            "Input comma separated sequence of words : orange,white,red,cyan,green,magenta,cyan,pink,white\n",
            "cyan,green,magenta,orange,pink,red,white\n"
          ],
          "name": "stdout"
        }
      ]
    },
    {
      "cell_type": "code",
      "metadata": {
        "id": "2O1fcnoMfott",
        "colab_type": "code",
        "colab": {
          "base_uri": "https://localhost:8080/",
          "height": 50
        },
        "outputId": "860fd0e0-2610-42d6-f751-d71526b4d205"
      },
      "source": [
        "a=int(input('Enter your monthly Salary : '))\n",
        "if a<=200000:\n",
        "  print(\"No need to pay Tax\")\n",
        "elif a<=500000:\n",
        "  print(\"Tax to be paid is : \",0.05*a)\n",
        "elif a<=750000:\n",
        "  print(\"Tax to be paid is : \",0.1*a)\n",
        "elif a<=1000000:\n",
        "  print(\"Tax to be paid is : \",0.15*a)\n",
        "elif a<=1250000:\n",
        "  print(\"Tax to be paid is : \",0.2*a)\n",
        "elif a<=1500000:\n",
        "  print(\"Tax to be paid is : \",0.25*a)\n",
        "else:\n",
        "  print(\"Tax to be paid is : \",0.3*a)"
      ],
      "execution_count": null,
      "outputs": [
        {
          "output_type": "stream",
          "text": [
            "Enter your monthly Salary : 1150000\n",
            "Tax to be paid is :  230000.0\n"
          ],
          "name": "stdout"
        }
      ]
    },
    {
      "cell_type": "code",
      "metadata": {
        "id": "Z_6pl_p7mbfF",
        "colab_type": "code",
        "colab": {
          "base_uri": "https://localhost:8080/",
          "height": 33
        },
        "outputId": "43aba095-9bd8-423a-a579-ddf1e52eba27"
      },
      "source": [
        "def convert(list):\n",
        "  x=int(\"\".join(map(str, list)))\n",
        "  return x\n",
        "l=[11,33,50]\n",
        "convert(l)"
      ],
      "execution_count": null,
      "outputs": [
        {
          "output_type": "execute_result",
          "data": {
            "text/plain": [
              "113350"
            ]
          },
          "metadata": {
            "tags": []
          },
          "execution_count": 30
        }
      ]
    },
    {
      "cell_type": "code",
      "metadata": {
        "id": "z-QV_YG4qGna",
        "colab_type": "code",
        "colab": {
          "base_uri": "https://localhost:8080/",
          "height": 100
        },
        "outputId": "946d2a48-ec94-440c-934d-bf76c9013e78"
      },
      "source": [
        "days = int(input(\"Enter number of days: \")) * 3600 * 24\n",
        "hours = int(input(\"Enter number of  hours: \")) * 3600\n",
        "minutes = int(input(\"Enter minutes: \")) * 60\n",
        "seconds = int(input(\"Enter seconds: \"))\n",
        "time = days + hours + minutes + seconds\n",
        "print(\"The  amounts of seconds\", time)"
      ],
      "execution_count": null,
      "outputs": [
        {
          "output_type": "stream",
          "text": [
            "Enter number of days: 2\n",
            "Enter number of  hours: 12\n",
            "Enter minutes: 50\n",
            "Enter seconds: 12\n",
            "The  amounts of seconds 219012\n"
          ],
          "name": "stdout"
        }
      ]
    },
    {
      "cell_type": "code",
      "metadata": {
        "id": "11N7yyRc6TJc",
        "colab_type": "code",
        "colab": {
          "base_uri": "https://localhost:8080/",
          "height": 84
        },
        "outputId": "e280f297-9be0-47f0-e723-2e8e5829334a"
      },
      "source": [
        "def sort(a,b,c):\n",
        "  get_max=max(a,max(b,c))\n",
        "  get_min=min(a,min(b,c))\n",
        "  get_mid=(a+b+c)-(get_max+get_min)\n",
        "  print(\"Sorted Order is : \",get_min,\" \",get_mid,\" \",get_max)\n",
        "a=int(input(\"Enter 3 numbers : \"))\n",
        "b=int(input())\n",
        "c=int(input())\n",
        "sort(a,b,c)"
      ],
      "execution_count": null,
      "outputs": [
        {
          "output_type": "stream",
          "text": [
            "Enter 3 numbers : 20\n",
            "10\n",
            "30\n",
            "Sorted Order is :  10   20   30\n"
          ],
          "name": "stdout"
        }
      ]
    },
    {
      "cell_type": "code",
      "metadata": {
        "id": "u8UUr0xE_TL2",
        "colab_type": "code",
        "colab": {
          "base_uri": "https://localhost:8080/",
          "height": 84
        },
        "outputId": "9d076305-face-4981-d65a-07961d8d3f10"
      },
      "source": [
        "year=int(input('Enter Year : '))\n",
        "if (year % 400 == 0):\n",
        "    leap_year = True\n",
        "elif (year % 100 == 0):\n",
        "    leap_year = False\n",
        "elif (year % 4 == 0):\n",
        "    leap_year = True\n",
        "else:\n",
        "    leap_year = False\n",
        "month=int(input('Enter month (1-12) : '))\n",
        "if month in (1, 3, 5, 7, 8, 10, 12):\n",
        "    month_length = 31\n",
        "elif month == 2:\n",
        "    if leap_year:\n",
        "        month_length = 29\n",
        "    else:\n",
        "        month_length = 28\n",
        "else:\n",
        "    month_length = 30\n",
        "day=int(input('Enter day (1-31) : '))\n",
        "if day < month_length:\n",
        "    day += 1\n",
        "else:\n",
        "    day = 1\n",
        "    if month == 12:\n",
        "        month = 1\n",
        "        year += 1\n",
        "    else:\n",
        "        month += 1\n",
        "print(\"The next date is : %d-%d-%d.\" % (year, month, day))"
      ],
      "execution_count": null,
      "outputs": [
        {
          "output_type": "stream",
          "text": [
            "Enter Year : 2020\n",
            "Enter month (1-12) : 8\n",
            "Enter day (1-31) : 31\n",
            "The next date is : 2020-9-1.\n"
          ],
          "name": "stdout"
        }
      ]
    },
    {
      "cell_type": "code",
      "metadata": {
        "id": "I1xyqzYRJGW8",
        "colab_type": "code",
        "colab": {
          "base_uri": "https://localhost:8080/",
          "height": 33
        },
        "outputId": "84f01871-28a9-4674-d508-8fef718c26c9"
      },
      "source": [
        "list=[45,3,2,89,72,1,10,7]\n",
        "x=1\n",
        "for i in list:\n",
        "  x=x*i\n",
        "print(\"Product of values in List : \",x)"
      ],
      "execution_count": null,
      "outputs": [
        {
          "output_type": "stream",
          "text": [
            "Product of values in List :  121111200\n"
          ],
          "name": "stdout"
        }
      ]
    },
    {
      "cell_type": "code",
      "metadata": {
        "id": "B2HrkOLYK2Ut",
        "colab_type": "code",
        "colab": {
          "base_uri": "https://localhost:8080/",
          "height": 33
        },
        "outputId": "e94cc015-b859-4b3a-a40b-f8a7eaf1422a"
      },
      "source": [
        "Num_list=[5,6,8,34,89,1]\n",
        "Out_list=[]\n",
        "for i in range(len(Num_list)-1):\n",
        "  sum=Num_list[i]+Num_list[i+1]\n",
        "  Out_list.insert(len(Out_list),sum)\n",
        "print(Out_list)"
      ],
      "execution_count": null,
      "outputs": [
        {
          "output_type": "stream",
          "text": [
            "[11, 14, 42, 123, 90]\n"
          ],
          "name": "stdout"
        }
      ]
    },
    {
      "cell_type": "code",
      "metadata": {
        "id": "2M649O08jtWN",
        "colab_type": "code",
        "colab": {
          "base_uri": "https://localhost:8080/",
          "height": 33
        },
        "outputId": "28c99477-e394-4ea6-b4ae-f802680efc7b"
      },
      "source": [
        "Num_tuple=(5,6,8,3,9,1)\n",
        "Out_list=[]\n",
        "product=1\n",
        "for i in range(len(Num_tuple)):\n",
        "  product=product*Num_tuple[i]\n",
        "  Out_list.insert(len(Out_list),product)\n",
        "print(Out_list)"
      ],
      "execution_count": null,
      "outputs": [
        {
          "output_type": "stream",
          "text": [
            "[5, 30, 240, 720, 6480, 6480]\n"
          ],
          "name": "stdout"
        }
      ]
    },
    {
      "cell_type": "code",
      "metadata": {
        "id": "UoaetGNJoDxi",
        "colab_type": "code",
        "colab": {
          "base_uri": "https://localhost:8080/",
          "height": 50
        },
        "outputId": "e6404354-635a-45d9-9d4f-22fa3fd393a0"
      },
      "source": [
        "n=input('Enter any Number to convert into list : ')\n",
        "list=[]\n",
        "for i in n:\n",
        "  list.insert(len(list),int(i))\n",
        "print(list)"
      ],
      "execution_count": null,
      "outputs": [
        {
          "output_type": "stream",
          "text": [
            "Enter any Number to convert into list : 23421\n",
            "[2, 3, 4, 2, 1]\n"
          ],
          "name": "stdout"
        }
      ]
    },
    {
      "cell_type": "code",
      "metadata": {
        "id": "kyTUpId-mejR",
        "colab_type": "code",
        "colab": {
          "base_uri": "https://localhost:8080/",
          "height": 50
        },
        "outputId": "df0fd3fe-043b-469a-9abe-580443fb48c0"
      },
      "source": [
        "st=input(\"Enter a string : \")\n",
        "s=[]\n",
        "l=1\n",
        "ct=0\n",
        "rs=\"\"\n",
        "for i in range(0,len(st),1):\n",
        "  for j in range(i+1,len(st)):\n",
        "    if st[i:j] == st[j:i:-1]:\n",
        "      if len(st[i:j])>l:\n",
        "        l=len(st[i:j])\n",
        "        rs=st[i:j+1]\n",
        "        ct=1           \n",
        "if ct==1:\n",
        "  print(rs)\n",
        "else:\n",
        "  print(-1)"
      ],
      "execution_count": 6,
      "outputs": [
        {
          "output_type": "stream",
          "text": [
            "Enter a string : 10111011001\n",
            "1011101\n"
          ],
          "name": "stdout"
        }
      ]
    },
    {
      "cell_type": "code",
      "metadata": {
        "id": "32dzIwoZpAGc",
        "colab_type": "code",
        "colab": {
          "base_uri": "https://localhost:8080/",
          "height": 67
        },
        "outputId": "7f252391-a2a5-49d8-db89-6fe46ca70c91"
      },
      "source": [
        "a=input('Enter any binary String : ')\n",
        "b=input('Enter another binary String : ')\n",
        "if b in a:\n",
        "  print(\"1\")\n",
        "else:\n",
        "  print(\"0\")"
      ],
      "execution_count": null,
      "outputs": [
        {
          "output_type": "stream",
          "text": [
            "Enter any binary String : 101011011011\n",
            "Enter another binary String : 010110\n",
            "1\n"
          ],
          "name": "stdout"
        }
      ]
    },
    {
      "cell_type": "code",
      "metadata": {
        "id": "gLHKt0AFnpoB",
        "colab_type": "code",
        "colab": {
          "base_uri": "https://localhost:8080/",
          "height": 167
        },
        "outputId": "c65979af-0988-4b9c-be1b-2ca9e3925f64"
      },
      "source": [
        "def gcd(a,b):\n",
        "    if b==0: \n",
        "        return a \n",
        "    return gcd(b,a%b) \n",
        "def countsteps(a,b,c): \n",
        "    v1=b\n",
        "    v2=0\n",
        "    count=1\n",
        "    while ((v1 is not c) and (v2 is not c)): \n",
        "        temp=min(v1,a-v2) \n",
        "        v2=v2+temp \n",
        "        v1=v1-temp \n",
        "        count=count+1\n",
        "        if ((v2==c)or(v1==c)): \n",
        "            break\n",
        "        if v1==0: \n",
        "            v1=b \n",
        "            count=count+1\n",
        "        if v2==a: \n",
        "            v2=0\n",
        "            count=count+1\n",
        "    return count \n",
        "def ispossible(a,b,c): \n",
        "    if a>b: \n",
        "        temp=a \n",
        "        a=b \n",
        "        b=temp \n",
        "    if c>b: \n",
        "        return -1\n",
        "    if (c%(gcd(b,a)) is not 0): \n",
        "        return -1\n",
        "    return(min(countsteps(b,a,c),countsteps(a,b,c)))\n",
        "t=int(input(\"Enter no of testcases : \"))\n",
        "for i in range(t):\n",
        "  a=int(input(\"Enter capacity of vessel a : \"))\n",
        "  b=int(input(\"Enter capacity of vessel b : \"))\n",
        "  c=int(input(\"Enter capacity to be obtained :\"))\n",
        "  print(\"------------------Minimum number of steps required is----------------- : \",ispossible(a,b,c))"
      ],
      "execution_count": 4,
      "outputs": [
        {
          "output_type": "stream",
          "text": [
            "Enter no of testcases : 2\n",
            "Enter capacity of vessel a : 5\n",
            "Enter capacity of vessel b : 2\n",
            "Enter capacity to be obtained :3\n",
            "------------------Minimum number of steps required is----------------- :  2\n",
            "Enter capacity of vessel a : 2\n",
            "Enter capacity of vessel b : 3\n",
            "Enter capacity to be obtained :4\n",
            "------------------Minimum number of steps required is----------------- :  -1\n"
          ],
          "name": "stdout"
        }
      ]
    }
  ]
}